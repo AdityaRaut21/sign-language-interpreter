{
 "cells": [
  {
   "cell_type": "code",
   "execution_count": 1,
   "id": "52566501",
   "metadata": {},
   "outputs": [],
   "source": [
    "import cv2 #computer vision\n",
    "import os \n",
    "import time\n",
    "import uuid "
   ]
  },
  {
   "cell_type": "code",
   "execution_count": 2,
   "id": "db23ddba",
   "metadata": {},
   "outputs": [],
   "source": [
    "IMAGES_PATH = 'TensorFlow/workspace/images/collectedimages'"
   ]
  },
  {
   "cell_type": "code",
   "execution_count": 3,
   "id": "2224f5d6",
   "metadata": {},
   "outputs": [],
   "source": [
    "labels = ['hello_r','thanks_1','yes_r','no_r','iloveyou_r','care_r','water_r','help_1','home_1','sorry_r','why_r',\n",
    "          'hello_l','thanks_2','yes_l','no_l','iloveyou_l','care_l','water_l','help_2','home_2','sorry_l','why_l']\n",
    "number_imgs = 10"
   ]
  },
  {
   "cell_type": "code",
   "execution_count": 4,
   "id": "bca2b224",
   "metadata": {},
   "outputs": [
    {
     "name": "stdout",
     "output_type": "stream",
     "text": [
      "Collecting images for hello_r\n",
      "Collecting images for thanks_1\n",
      "Collecting images for yes_r\n",
      "Collecting images for no_r\n",
      "Collecting images for iloveyou_r\n",
      "Collecting images for care_r\n",
      "Collecting images for water_r\n",
      "Collecting images for help_1\n",
      "Collecting images for home_1\n",
      "Collecting images for sorry_r\n",
      "Collecting images for why_r\n",
      "Collecting images for hello_l\n",
      "Collecting images for thanks_2\n",
      "Collecting images for yes_l\n",
      "Collecting images for no_l\n",
      "Collecting images for iloveyou_l\n",
      "Collecting images for care_l\n",
      "Collecting images for water_l\n",
      "Collecting images for help_2\n",
      "Collecting images for home_2\n",
      "Collecting images for sorry_l\n",
      "Collecting images for why_l\n"
     ]
    }
   ],
   "source": [
    "for label in labels:\n",
    "    !mkdir {'TensorFlow\\workspace\\images\\collectedimages\\\\'+label}\n",
    "    cap = cv2.VideoCapture(0)\n",
    "    print('Collecting images for {}' .format(label))\n",
    "    time.sleep(3)\n",
    "    for imgnum in range(number_imgs):\n",
    "        ret, frame = cap.read()\n",
    "        imgname = os.path.join(IMAGES_PATH, label, label+'.'+'{}.jpg'.format(str(uuid.uuid1())))\n",
    "        cv2.imwrite(imgname, frame)\n",
    "        cv2.imshow('frame', frame)\n",
    "        time.sleep(2)\n",
    "        \n",
    "        if cv2.waitKey(1) & 0xFF == ord('q'):\n",
    "            break\n",
    "            cap.release()"
   ]
  },
  {
   "cell_type": "code",
   "execution_count": null,
   "id": "24b66a3e",
   "metadata": {},
   "outputs": [],
   "source": []
  }
 ],
 "metadata": {
  "kernelspec": {
   "display_name": "Python 3 (ipykernel)",
   "language": "python",
   "name": "python3"
  },
  "language_info": {
   "codemirror_mode": {
    "name": "ipython",
    "version": 3
   },
   "file_extension": ".py",
   "mimetype": "text/x-python",
   "name": "python",
   "nbconvert_exporter": "python",
   "pygments_lexer": "ipython3",
   "version": "3.9.7"
  }
 },
 "nbformat": 4,
 "nbformat_minor": 5
}
